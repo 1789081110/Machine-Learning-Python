{
  "nbformat": 4,
  "nbformat_minor": 0,
  "metadata": {
    "colab": {
      "provenance": []
    },
    "kernelspec": {
      "name": "python3",
      "display_name": "Python 3"
    },
    "language_info": {
      "name": "python"
    }
  },
  "cells": [
    {
      "cell_type": "code",
      "execution_count": null,
      "metadata": {
        "id": "dKLPrM6mMjNJ"
      },
      "outputs": [],
      "source": [
        "from sklearn.datasets import make_blobs"
      ]
    },
    {
      "cell_type": "code",
      "source": [
        "df=make_blobs()"
      ],
      "metadata": {
        "id": "U_BWehKcM3ju"
      },
      "execution_count": null,
      "outputs": []
    },
    {
      "cell_type": "code",
      "source": [
        "points=df[0]"
      ],
      "metadata": {
        "id": "ygYQdQw5NBFt"
      },
      "execution_count": null,
      "outputs": []
    },
    {
      "cell_type": "code",
      "source": [
        "points"
      ],
      "metadata": {
        "colab": {
          "base_uri": "https://localhost:8080/"
        },
        "id": "l3oKZeGnNFPM",
        "outputId": "f70280da-f1e0-4783-a843-e6daa5b8c1d7"
      },
      "execution_count": null,
      "outputs": [
        {
          "output_type": "execute_result",
          "data": {
            "text/plain": [
              "array([[ 4.97348569,  0.70591308],\n",
              "       [ 4.32267717, -0.65427678],\n",
              "       [-4.89944014,  1.86862471],\n",
              "       [ 5.4999673 , -1.29748192],\n",
              "       [ 4.3895971 , -0.19909485],\n",
              "       [ 4.37246069,  1.549279  ],\n",
              "       [ 7.1676382 , -2.385385  ],\n",
              "       [ 3.56203963,  0.53520534],\n",
              "       [ 8.18693192, -3.27477062],\n",
              "       [ 3.527654  ,  0.59371724],\n",
              "       [ 4.59202619, -2.50816729],\n",
              "       [ 5.93832673,  0.15865764],\n",
              "       [-5.6506724 ,  2.89608766],\n",
              "       [-6.10308099,  0.96652712],\n",
              "       [ 4.70960735,  0.29549362],\n",
              "       [ 4.14747442,  1.00775602],\n",
              "       [ 3.93203819,  0.49645236],\n",
              "       [-4.88598004,  0.28556854],\n",
              "       [ 6.05077916, -2.07602478],\n",
              "       [-5.9813711 ,  1.5589748 ],\n",
              "       [ 5.1856887 , -1.074513  ],\n",
              "       [ 8.25965438, -3.97482208],\n",
              "       [10.17641276, -1.38119508],\n",
              "       [ 5.02149825,  1.59531459],\n",
              "       [ 9.16493968, -2.20968438],\n",
              "       [ 9.17817664, -2.86099655],\n",
              "       [-4.63018101,  1.55339126],\n",
              "       [ 8.80797835, -3.53841811],\n",
              "       [ 4.82772242, -0.30110842],\n",
              "       [ 9.411564  , -3.72665928],\n",
              "       [ 7.62457668, -2.25796373],\n",
              "       [10.47474852, -3.96039236],\n",
              "       [ 5.32245725,  0.16541503],\n",
              "       [-6.33092666,  1.79555473],\n",
              "       [ 7.08548532, -1.62477711],\n",
              "       [-3.66169613,  3.49731647],\n",
              "       [ 7.19072621, -1.90385646],\n",
              "       [ 5.14960821, -0.82226555],\n",
              "       [-4.7290788 ,  2.73594057],\n",
              "       [-4.89041153,  0.07287809],\n",
              "       [ 7.40125668, -1.81607031],\n",
              "       [ 7.92840976, -2.45431528],\n",
              "       [-4.86252393,  1.37891515],\n",
              "       [ 6.68416639,  0.40487575],\n",
              "       [-3.38071838,  1.89432113],\n",
              "       [-4.4869572 ,  1.15486405],\n",
              "       [-6.94727417,  1.66599744],\n",
              "       [ 4.42659448,  1.47302411],\n",
              "       [-5.34728924,  0.24182716],\n",
              "       [ 4.50859662,  2.63664172],\n",
              "       [ 9.21537543, -3.60668426],\n",
              "       [-5.41487315,  1.66213532],\n",
              "       [ 9.87255983, -2.11290781],\n",
              "       [ 5.64293165,  2.53498083],\n",
              "       [ 5.65661095,  1.25981505],\n",
              "       [ 8.47724496, -3.77656959],\n",
              "       [ 7.85343599, -2.84517483],\n",
              "       [ 4.47233847,  0.27983207],\n",
              "       [-5.38174383,  3.09800929],\n",
              "       [-2.75248482,  2.31083742],\n",
              "       [ 7.99146568, -3.28230379],\n",
              "       [ 9.54326606, -3.49189279],\n",
              "       [ 5.8222729 , -0.95296758],\n",
              "       [ 7.80653259, -3.91020197],\n",
              "       [ 5.55405531, -0.52605972],\n",
              "       [-4.83527084,  1.84132428],\n",
              "       [-4.15456483,  2.08616902],\n",
              "       [-4.02420719,  3.48132411],\n",
              "       [ 5.50150741,  1.00209711],\n",
              "       [-3.83955143,  1.27273198],\n",
              "       [10.11904325, -1.50032336],\n",
              "       [ 8.15573841, -3.71247835],\n",
              "       [-4.20687714,  2.07994973],\n",
              "       [ 8.32211119, -3.86505231],\n",
              "       [ 5.23756268, -0.31965294],\n",
              "       [-5.9154943 ,  2.23400947],\n",
              "       [ 8.99950626, -2.87112052],\n",
              "       [ 5.02794966, -0.83224796],\n",
              "       [-4.81535897,  2.94588323],\n",
              "       [ 9.09005083, -4.20495799],\n",
              "       [10.06471702, -4.17546325],\n",
              "       [-5.30658917,  1.12056894],\n",
              "       [-5.07350033,  1.65390973],\n",
              "       [ 4.48650668,  0.33411343],\n",
              "       [-4.28407762,  2.39964793],\n",
              "       [ 8.21089168, -1.92663699],\n",
              "       [ 6.34357566,  1.39003801],\n",
              "       [-4.18424776,  0.89672595],\n",
              "       [ 5.25912057,  1.38939835],\n",
              "       [-4.59488677,  0.9862401 ],\n",
              "       [-4.45965375,  0.6113385 ],\n",
              "       [-5.28722138,  1.64617244],\n",
              "       [ 7.59207751, -3.89663187],\n",
              "       [ 8.64500642, -2.92516146],\n",
              "       [-3.81404628,  0.11278624],\n",
              "       [11.30023938, -3.45013326],\n",
              "       [ 3.59788418,  2.42769368],\n",
              "       [ 9.89731058, -1.95313305],\n",
              "       [ 3.99272984,  1.39039574],\n",
              "       [ 5.1164525 ,  1.56761644]])"
            ]
          },
          "metadata": {},
          "execution_count": 5
        }
      ]
    },
    {
      "cell_type": "code",
      "source": [
        "from sklearn.cluster import KMeans"
      ],
      "metadata": {
        "id": "UtYMN9hVNF9U"
      },
      "execution_count": null,
      "outputs": []
    },
    {
      "cell_type": "code",
      "source": [
        "km = KMeans(n_clusters=4)"
      ],
      "metadata": {
        "id": "Rs5JVlFUNIls"
      },
      "execution_count": null,
      "outputs": []
    },
    {
      "cell_type": "code",
      "source": [
        "km.fit(points)"
      ],
      "metadata": {
        "colab": {
          "base_uri": "https://localhost:8080/"
        },
        "id": "D3oZJWw3NKga",
        "outputId": "f067d399-bb90-4e72-a011-ae06af23121f"
      },
      "execution_count": null,
      "outputs": [
        {
          "output_type": "execute_result",
          "data": {
            "text/plain": [
              "KMeans(n_clusters=4)"
            ]
          },
          "metadata": {},
          "execution_count": 8
        }
      ]
    },
    {
      "cell_type": "code",
      "source": [
        "y_pred=km.fit_predict(points)"
      ],
      "metadata": {
        "id": "dzt2CO5FNNYP"
      },
      "execution_count": null,
      "outputs": []
    },
    {
      "cell_type": "code",
      "source": [
        "import matplotlib.pyplot as plt"
      ],
      "metadata": {
        "id": "fxg3dfiSNPYv"
      },
      "execution_count": null,
      "outputs": []
    },
    {
      "cell_type": "code",
      "source": [
        "plt.scatter(points[:,0],points[:,1],s=60,cMap=\"viridis\",c=y_pred)\n",
        "plt.plot()"
      ],
      "metadata": {
        "colab": {
          "base_uri": "https://localhost:8080/",
          "height": 282
        },
        "id": "-aTvmh-iNW9e",
        "outputId": "90a19ed2-c3a6-4e3f-bca2-a6d1ec6e0cd4"
      },
      "execution_count": null,
      "outputs": [
        {
          "output_type": "execute_result",
          "data": {
            "text/plain": [
              "[]"
            ]
          },
          "metadata": {},
          "execution_count": 15
        },
        {
          "output_type": "display_data",
          "data": {
            "text/plain": [
              "<Figure size 432x288 with 1 Axes>"
            ],
            "image/png": "[encoded data removed]"
          },
          "metadata": {
            "needs_background": "light"
          }
        }
      ]
    },
    {
      "cell_type": "code",
      "source": [
        "centers = km.cluster_centers_\n",
        "plt.scatter(centers[:, 0], centers[:, 1], c='black', s=200, alpha=1);\n",
        "plt.show()"
      ],
      "metadata": {
        "colab": {
          "base_uri": "https://localhost:8080/",
          "height": 265
        },
        "id": "t6XCWFCiOVEE",
        "outputId": "0a41dfb5-23bd-4d37-d761-a3f967fbe460"
      },
      "execution_count": null,
      "outputs": [
        {
          "output_type": "display_data",
          "data": {
            "text/plain": [
              "<Figure size 432x288 with 1 Axes>"
            ],
            "image/png": "[encoded data removed]"
          },
          "metadata": {
            "needs_background": "light"
          }
        }
      ]
    },
    {
      "cell_type": "code",
      "source": [],
      "metadata": {
        "id": "FXZ0yO7kOp-3"
      },
      "execution_count": null,
      "outputs": []
    }
  ]
}